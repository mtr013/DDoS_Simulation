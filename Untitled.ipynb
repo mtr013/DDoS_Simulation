{
 "cells": [
  {
   "cell_type": "code",
   "execution_count": null,
   "id": "ca3906fa-a266-4f34-94b1-4b697b02831d",
   "metadata": {},
   "outputs": [],
   "source": [
    "import pandas as pd\n",
    "import numpy as np\n",
    "from sklearn.model_selection import train_test_split\n",
    "from sklearn.preprocessing import StandardScaler, MinMaxScaler"
   ]
  },
  {
   "cell_type": "code",
   "execution_count": null,
   "id": "5216398d-5c2e-4716-8363-51692484346d",
   "metadata": {},
   "outputs": [],
   "source": [
    "df = pd.read_csv(\"path/to/CIC-DDoS2019.csv\")  # Replace with the actual path  "
   ]
  }
 ],
 "metadata": {
  "kernelspec": {
   "display_name": "Python 3 (ipykernel)",
   "language": "python",
   "name": "python3"
  },
  "language_info": {
   "codemirror_mode": {
    "name": "ipython",
    "version": 3
   },
   "file_extension": ".py",
   "mimetype": "text/x-python",
   "name": "python",
   "nbconvert_exporter": "python",
   "pygments_lexer": "ipython3",
   "version": "3.11.9"
  }
 },
 "nbformat": 4,
 "nbformat_minor": 5
}
